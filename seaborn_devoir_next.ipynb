{
 "cells": [
  {
   "cell_type": "code",
   "execution_count": 1,
   "metadata": {},
   "outputs": [],
   "source": [
    "import matplotlib.pyplot as plt\n",
    "import pandas as pd\n",
    "import numpy as np\n",
    "import seaborn as sns"
   ]
  },
  {
   "cell_type": "code",
   "execution_count": 3,
   "metadata": {},
   "outputs": [],
   "source": [
    "fandango = pd.read_csv(\"datas/fandango_scrape.csv\")\n",
    "all_sites = pd.read_csv(\"datas/all_sites_scores.csv\")"
   ]
  },
  {
   "cell_type": "code",
   "execution_count": 4,
   "metadata": {},
   "outputs": [],
   "source": [
    "df = pd.merge(fandango,all_sites,how= \"inner\",on=\"FILM\")"
   ]
  },
  {
   "cell_type": "code",
   "execution_count": 5,
   "metadata": {},
   "outputs": [
    {
     "data": {
      "text/html": [
       "<div>\n",
       "<style scoped>\n",
       "    .dataframe tbody tr th:only-of-type {\n",
       "        vertical-align: middle;\n",
       "    }\n",
       "\n",
       "    .dataframe tbody tr th {\n",
       "        vertical-align: top;\n",
       "    }\n",
       "\n",
       "    .dataframe thead th {\n",
       "        text-align: right;\n",
       "    }\n",
       "</style>\n",
       "<table border=\"1\" class=\"dataframe\">\n",
       "  <thead>\n",
       "    <tr style=\"text-align: right;\">\n",
       "      <th></th>\n",
       "      <th>FILM</th>\n",
       "      <th>STARS</th>\n",
       "      <th>RATING</th>\n",
       "      <th>VOTES</th>\n",
       "      <th>RottenTomatoes</th>\n",
       "      <th>RottenTomatoes_User</th>\n",
       "      <th>Metacritic</th>\n",
       "      <th>Metacritic_User</th>\n",
       "      <th>IMDB</th>\n",
       "      <th>Metacritic_user_vote_count</th>\n",
       "      <th>IMDB_user_vote_count</th>\n",
       "    </tr>\n",
       "  </thead>\n",
       "  <tbody>\n",
       "    <tr>\n",
       "      <th>0</th>\n",
       "      <td>Fifty Shades of Grey (2015)</td>\n",
       "      <td>4.0</td>\n",
       "      <td>3.9</td>\n",
       "      <td>34846</td>\n",
       "      <td>25</td>\n",
       "      <td>42</td>\n",
       "      <td>46</td>\n",
       "      <td>3.2</td>\n",
       "      <td>4.2</td>\n",
       "      <td>778</td>\n",
       "      <td>179506</td>\n",
       "    </tr>\n",
       "    <tr>\n",
       "      <th>1</th>\n",
       "      <td>Jurassic World (2015)</td>\n",
       "      <td>4.5</td>\n",
       "      <td>4.5</td>\n",
       "      <td>34390</td>\n",
       "      <td>71</td>\n",
       "      <td>81</td>\n",
       "      <td>59</td>\n",
       "      <td>7.0</td>\n",
       "      <td>7.3</td>\n",
       "      <td>1281</td>\n",
       "      <td>241807</td>\n",
       "    </tr>\n",
       "    <tr>\n",
       "      <th>2</th>\n",
       "      <td>American Sniper (2015)</td>\n",
       "      <td>5.0</td>\n",
       "      <td>4.8</td>\n",
       "      <td>34085</td>\n",
       "      <td>72</td>\n",
       "      <td>85</td>\n",
       "      <td>72</td>\n",
       "      <td>6.6</td>\n",
       "      <td>7.4</td>\n",
       "      <td>850</td>\n",
       "      <td>251856</td>\n",
       "    </tr>\n",
       "    <tr>\n",
       "      <th>3</th>\n",
       "      <td>Furious 7 (2015)</td>\n",
       "      <td>5.0</td>\n",
       "      <td>4.8</td>\n",
       "      <td>33538</td>\n",
       "      <td>81</td>\n",
       "      <td>84</td>\n",
       "      <td>67</td>\n",
       "      <td>6.8</td>\n",
       "      <td>7.4</td>\n",
       "      <td>764</td>\n",
       "      <td>207211</td>\n",
       "    </tr>\n",
       "    <tr>\n",
       "      <th>4</th>\n",
       "      <td>Inside Out (2015)</td>\n",
       "      <td>4.5</td>\n",
       "      <td>4.5</td>\n",
       "      <td>15749</td>\n",
       "      <td>98</td>\n",
       "      <td>90</td>\n",
       "      <td>94</td>\n",
       "      <td>8.9</td>\n",
       "      <td>8.6</td>\n",
       "      <td>807</td>\n",
       "      <td>96252</td>\n",
       "    </tr>\n",
       "  </tbody>\n",
       "</table>\n",
       "</div>"
      ],
      "text/plain": [
       "                          FILM  STARS  RATING  VOTES  RottenTomatoes  \\\n",
       "0  Fifty Shades of Grey (2015)    4.0     3.9  34846              25   \n",
       "1        Jurassic World (2015)    4.5     4.5  34390              71   \n",
       "2       American Sniper (2015)    5.0     4.8  34085              72   \n",
       "3             Furious 7 (2015)    5.0     4.8  33538              81   \n",
       "4            Inside Out (2015)    4.5     4.5  15749              98   \n",
       "\n",
       "   RottenTomatoes_User  Metacritic  Metacritic_User  IMDB  \\\n",
       "0                   42          46              3.2   4.2   \n",
       "1                   81          59              7.0   7.3   \n",
       "2                   85          72              6.6   7.4   \n",
       "3                   84          67              6.8   7.4   \n",
       "4                   90          94              8.9   8.6   \n",
       "\n",
       "   Metacritic_user_vote_count  IMDB_user_vote_count  \n",
       "0                         778                179506  \n",
       "1                        1281                241807  \n",
       "2                         850                251856  \n",
       "3                         764                207211  \n",
       "4                         807                 96252  "
      ]
     },
     "execution_count": 5,
     "metadata": {},
     "output_type": "execute_result"
    }
   ],
   "source": [
    "df.head()"
   ]
  },
  {
   "cell_type": "code",
   "execution_count": 6,
   "metadata": {},
   "outputs": [
    {
     "data": {
      "text/plain": [
       "<AxesSubplot:ylabel='Density'>"
      ]
     },
     "execution_count": 6,
     "metadata": {},
     "output_type": "execute_result"
    },
    {
     "data": {
      "image/png": "[encoded data removed]",
      "text/plain": [
       "<Figure size 432x288 with 1 Axes>"
      ]
     },
     "metadata": {
      "needs_background": "light"
     },
     "output_type": "display_data"
    }
   ],
   "source": [
    "sns.kdeplot(data=df)"
   ]
  },
  {
   "cell_type": "code",
   "execution_count": null,
   "metadata": {},
   "outputs": [],
   "source": []
  }
 ],
 "metadata": {
  "interpreter": {
   "hash": "916dbcbb3f70747c44a77c7bcd40155683ae19c65e1c03b4aa3499c5328201f1"
  },
  "kernelspec": {
   "display_name": "Python 3.8.10 64-bit",
   "language": "python",
   "name": "python3"
  },
  "language_info": {
   "codemirror_mode": {
    "name": "ipython",
    "version": 3
   },
   "file_extension": ".py",
   "mimetype": "text/x-python",
   "name": "python",
   "nbconvert_exporter": "python",
   "pygments_lexer": "ipython3",
   "version": "3.8.10"
  },
  "orig_nbformat": 4
 },
 "nbformat": 4,
 "nbformat_minor": 2
}
